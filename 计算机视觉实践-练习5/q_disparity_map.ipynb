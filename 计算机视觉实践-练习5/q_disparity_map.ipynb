{
 "cells": [
  {
   "cell_type": "code",
   "execution_count": null,
   "id": "effcf098-46e3-45e3-948a-890928a83b75",
   "metadata": {},
   "outputs": [],
   "source": [
    "import cv2\n",
    "import numpy as np\n",
    "\n",
    "#视差图计算\n",
    "def compute_disparity_map(left_image_path, right_image_path):\n",
    "    # 读取左右视图图像\n",
    "    left_img = cv2.imread(left_image_path, cv2.IMREAD_GRAYSCALE)\n",
    "    right_img = cv2.imread(right_image_path, cv2.IMREAD_GRAYSCALE)\n",
    "\n",
    "    # 检查图像是否加载成功\n",
    "    if left_img is None or right_img is None:\n",
    "        raise ValueError(\"Could not open or find the images!\")\n",
    "\n",
    "    # 创建Semi-Global Block Matching (SGBM) 对象    \n",
    "    window_size = 9\n",
    "    min_disp = 0\n",
    "    num_disp = 112 - min_disp\n",
    "    stereo = cv2.StereoSGBM_create(\n",
    "        minDisparity=min_disp,\n",
    "        numDisparities=num_disp,\n",
    "        blockSize=8,\n",
    "        P1=8 * 3 * window_size ** 2,\n",
    "        P2=32 * 3 * window_size ** 2,\n",
    "        disp12MaxDiff=1,\n",
    "        uniquenessRatio=10,\n",
    "        speckleWindowSize=100,\n",
    "        speckleRange=32,\n",
    "        #mode=cv2.STEREO_SGBM_MODE_SGBM  #（标准处理） 处理速度较快，精度较好\n",
    "        mode=cv2.STEREO_SGBM_MODE_HH   #处理速度较慢，但精度更高\n",
    "    )\n",
    "\n",
    "    # 计算视差图\n",
    "    disparity = stereo.compute(left_img, right_img).astype(np.float32) / 16.0\n",
    "\n",
    "    # 将视差值缩放到0-255范围，便于显示\n",
    "    result = cv2.normalize(disparity, None, alpha=0, beta=255, norm_type=cv2.NORM_MINMAX, dtype=cv2.CV_8U)\n",
    "\n",
    "    return result\n",
    "\n",
    "if __name__ ==\"__main__\":     \n",
    "    left_image_path = '/home/kh/homework/exercise5/img/test2_left.png'   #路径可修改\n",
    "    right_image_path = '/home/kh/homework/exercise5/img/test2_right.png'\n",
    "    \n",
    "    # left_image_path = '/home/kh/homework/exercise5/img/test3_left.jpg'   #路径可修改\n",
    "    # right_image_path = '/home/kh/homework/exercise5/img/test3_right.jpg'\n",
    "\n",
    "    result = compute_disparity_map(left_image_path, right_image_path)\n",
    "\n",
    "    # 显示视差图\n",
    "    if result is not None:    \n",
    "        cv2.imwrite( '/home/kh/homework/exercise5/result/' + 'test2_res.jpg', result)  #保存； 路径可修改\n",
    "        #cv2.imwrite( '/home/kh/homework/exercise5/result/' + 'test2_res2.jpg', result)  \n",
    "        print(\"保存视差图成功！\")\n",
    "    else:\n",
    "        print(\"保存视差图失败！\") \n"
   ]
  }
 ],
 "metadata": {
  "kernelspec": {
   "display_name": "Python 3 (ipykernel)",
   "language": "python",
   "name": "python3"
  },
  "language_info": {
   "codemirror_mode": {
    "name": "ipython",
    "version": 3
   },
   "file_extension": ".py",
   "mimetype": "text/x-python",
   "name": "python",
   "nbconvert_exporter": "python",
   "pygments_lexer": "ipython3",
   "version": "3.8.18"
  }
 },
 "nbformat": 4,
 "nbformat_minor": 5
}
